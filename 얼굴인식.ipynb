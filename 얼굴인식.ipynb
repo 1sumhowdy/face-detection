{
  "nbformat": 4,
  "nbformat_minor": 0,
  "metadata": {
    "colab": {
      "name": "얼굴인식.ipynb",
      "provenance": []
    },
    "kernelspec": {
      "name": "python3",
      "display_name": "Python 3"
    },
    "language_info": {
      "name": "python"
    },
    "accelerator": "GPU"
  },
  "cells": [
    {
      "cell_type": "markdown",
      "metadata": {
        "id": "mS0O7T32bOq8"
      },
      "source": [
        "# 얼굴인식\n",
        "1차: 2021.07.14\n"
      ]
    },
    {
      "cell_type": "code",
      "metadata": {
        "id": "3VLLr6eKbQMa"
      },
      "source": [
        "# 주석 (코드 돌아가지 않는 부분)\n",
        "\n",
        "import numpy as np  #코드"
      ],
      "execution_count": 1,
      "outputs": []
    },
    {
      "cell_type": "markdown",
      "metadata": {
        "id": "zdPr0itBb9YE"
      },
      "source": [
        "# 할 일 정리\n",
        "0. 필요한 라이브러리를 가져온다 (import)   \n",
        "tensorflow, keras, 등등...   \n",
        "imgshow, numpy, ....\n",
        "\n",
        "1. colab 에 데이터 불러오기   \n",
        "\n",
        "2. 모델을 만든다 (CNN 코드를 참고해서)\n",
        "\n",
        "3. face-training-set 으로 모델을 학습시킨다. (train)\n",
        "문제랑 정답을 같이 줘서 모델을 트레ㅇ닝\n",
        "\n",
        "4. 모델이 내놓은 정답이랑, 실제 정답 비교"
      ]
    },
    {
      "cell_type": "code",
      "metadata": {
        "colab": {
          "base_uri": "https://localhost:8080/"
        },
        "id": "y4kB1DbYaaWa",
        "outputId": "0507a76b-a222-4534-b456-badb8b32c416"
      },
      "source": [
        "from google.colab import drive\n",
        "drive.mount('/content/drive')"
      ],
      "execution_count": 2,
      "outputs": [
        {
          "output_type": "stream",
          "text": [
            "Mounted at /content/drive\n"
          ],
          "name": "stdout"
        }
      ]
    },
    {
      "cell_type": "code",
      "metadata": {
        "id": "xEKf0kveeAIA"
      },
      "source": [
        "import numpy as np\n",
        "import pandas as pd\n",
        "import matplotlib  #시각화ㅡ 그래프 그리기\n",
        "%matplotlib inline\n",
        "import matplotlib.pyplot as plt  #plt.img_show()\n",
        "import os\n",
        "import cv2\n",
        "from os.path import isfile, join\n",
        "import glob\n",
        "import gzip\n",
        "from PIL import Image\n",
        "from scipy import misc"
      ],
      "execution_count": 5,
      "outputs": []
    },
    {
      "cell_type": "code",
      "metadata": {
        "id": "hgxlNc-2eby9"
      },
      "source": [
        "# 딥러닝에 필요한 라이브러리들 import\n",
        "\n",
        "import tensorflow as tf\n",
        "import tensorflow.keras as keras\n",
        "from tensorflow.keras.layers import Input,Conv2D,MaxPooling2D,UpSampling2D\n",
        "from tensorflow.keras.models import Model\n",
        "from tensorflow.keras.optimizers import RMSprop\n",
        "from tensorflow.keras.preprocessing.image import load_img\n",
        "from tensorflow.keras.preprocessing.image import img_to_array\n",
        "from tensorflow.keras.preprocessing.image import array_to_img"
      ],
      "execution_count": 6,
      "outputs": []
    },
    {
      "cell_type": "code",
      "metadata": {
        "id": "OcCYcmw3eep5"
      },
      "source": [
        "\n",
        "# CNN\n",
        "import keras\n",
        "from keras.models import Sequential\n",
        "from keras.models import load_model\n",
        "from keras.utils.np_utils import to_categorical\n",
        "\n",
        "from keras import layers, regularizers, optimizers, callbacks\n",
        "from collections import defaultdict\n",
        "from keras.optimizers import RMSprop\n",
        "from keras.layers.normalization import BatchNormalization\n",
        "\n",
        "from sklearn.metrics import pairwise_distances_argmin\n",
        "from skimage.io import imread\n",
        "from sklearn.utils import shuffle\n",
        "from skimage import img_as_float\n",
        "\n",
        "from keras import layers\n",
        "from keras import models\n",
        "from keras.utils import np_utils  # to_categorical"
      ],
      "execution_count": 7,
      "outputs": []
    },
    {
      "cell_type": "code",
      "metadata": {
        "colab": {
          "base_uri": "https://localhost:8080/",
          "height": 365
        },
        "id": "hND6z2t7e5fN",
        "outputId": "117b1035-6407-4b29-d4b9-c67ef6408421"
      },
      "source": [
        "### 첫번째 데이터 출력해보기\n",
        "img1 = matplotlib.image.imread(join('/content/drive/MyDrive/face-training-set/0001_0001.BMP'))\n",
        "plt.figure()\n",
        "plt.figure(figsize=(24,25))\n",
        "plt.subplot(1,5,1, facecolor='w')\n",
        "plt.imshow(img1, cmap='gray')"
      ],
      "execution_count": 8,
      "outputs": [
        {
          "output_type": "execute_result",
          "data": {
            "text/plain": [
              "<matplotlib.image.AxesImage at 0x7f20db375610>"
            ]
          },
          "metadata": {
            "tags": []
          },
          "execution_count": 8
        },
        {
          "output_type": "display_data",
          "data": {
            "text/plain": [
              "<Figure size 432x288 with 0 Axes>"
            ]
          },
          "metadata": {
            "tags": []
          }
        },
        {
          "output_type": "display_data",
          "data": {
            "image/png": "[encoded data removed]",
            "text/plain": [
              "<Figure size 1728x1800 with 1 Axes>"
            ]
          },
          "metadata": {
            "tags": [],
            "needs_background": "light"
          }
        }
      ]
    },
    {
      "cell_type": "markdown",
      "metadata": {
        "id": "tEhqMJJif4xm"
      },
      "source": [
        "# 꼭 알아야할 개념\n",
        "### 1. 하이퍼 파라미터 (hyper-parameter)\n",
        "epochs=40, batch_size=16, learning-rate=0.0001, ...   \n",
        "활성화 함수(activation func): relu, softmax 등등의 다양한 활성화 함수 존재\n",
        "\n",
        "### 2. CNN 모델의 layer\n",
        "-> 성능에 많은 영향\n",
        "\n",
        "### 3. 트레이닝셋과 테스트셋\n",
        "트레이닝셋은? 질문과 정답을 같이 준다   \n",
        "테스트셋은? 질문만 주고, 정답과 비교 -> 성능 측정\n",
        "\n",
        "### 4. 성능 개선"
      ]
    },
    {
      "cell_type": "markdown",
      "metadata": {
        "id": "ngXLvQ9gi_jt"
      },
      "source": [
        "# 1. 데이터셋 불러오기\n",
        "트레이닝, 테스트셋 불러오기"
      ]
    },
    {
      "cell_type": "code",
      "metadata": {
        "id": "rKJkQOoJfd6M"
      },
      "source": [
        "\n",
        "# 학습 결과 분석을 위한 그래프 구현\n",
        "\n",
        "import matplotlib.pyplot as plt\n",
        "\n",
        "def plot_acc(history, title=None):\n",
        "  # summarize history for accuracy\n",
        "  if not isinstance(history, dict):\n",
        "    history = history.history\n",
        "  plt.plot(history['accuracy'])\n",
        "  plt.plot(history['val_accuracy'])\n",
        "  if title is not None:\n",
        "    plt.title(title)\n",
        "  plt.ylabel('Accuracy')\n",
        "  plt.xlabel('Epoch')\n",
        "  plt.legend(['Training', 'Verification'], loc=0)   # 두 선의 이름(Train, Test) 표시\n",
        "\n",
        "def plot_loss(history, title=None):\n",
        "  # summarize history for loss\n",
        "  if not isinstance(history, dict):\n",
        "    history = history.history\n",
        "  plt.plot(history['loss'])             # 학습 데이터로 구한 손실값\n",
        "  plt.plot(history['val_loss'])         # 검증 데이터로 구한 손실값\n",
        "  if title is not None:\n",
        "    plt.title(title)\n",
        "  plt.ylabel('Loss')\n",
        "  plt.xlabel('Epoch')\n",
        "  plt.legend(['Training', 'Verification'], loc=0)"
      ],
      "execution_count": 9,
      "outputs": []
    },
    {
      "cell_type": "code",
      "metadata": {
        "colab": {
          "base_uri": "https://localhost:8080/",
          "height": 385
        },
        "id": "vw2pTJvliSI_",
        "outputId": "4b791a52-f4ed-466f-ce19-3b80c54c7feb"
      },
      "source": [
        "def create_Trainset(folder):\n",
        "   \n",
        "    img_data_array=[]\n",
        "    class_name=[]\n",
        "    \n",
        "    for file in os.listdir(folder):\n",
        "        image_path = os.path.join(folder, file)\n",
        "        image = load_img(image_path, 'rb')\n",
        "        image = img_to_array(image)\n",
        "        \n",
        "        if image.shape[2] == 3:\n",
        "            image = image.mean(2)\n",
        "\n",
        "        img_data_array.append(image)\n",
        "        name_index = file.split(\"_\")\n",
        "        name_index = int(name_index[0])\n",
        "        class_name.append(name_index)\n",
        "        \n",
        "    return np.array(img_data_array), np.array(class_name)\n",
        "\n",
        "\n",
        "def create_Testset(folder):\n",
        "   \n",
        "    img_data_array=[]\n",
        "    class_name=[]\n",
        "    \n",
        "    for file in os.listdir(folder):\n",
        "        image_path = os.path.join(folder, file)\n",
        "        image = load_img(image_path, 'rb')\n",
        "        image = img_to_array(image)\n",
        "        \n",
        "        if image.shape[2] == 3:\n",
        "            image = image.mean(2)\n",
        "\n",
        "        img_data_array.append(image)\n",
        "        name_index = file.split(\".\")\n",
        "        name_index = int(name_index[0])\n",
        "        class_name.append(name_index)\n",
        "        \n",
        "    return np.array(img_data_array), np.array(class_name)\n",
        "\n",
        "# 정규화\n",
        "def normalization(image):  \n",
        "    image = image / image.max()\n",
        "    return image\n",
        "\n",
        "\n",
        "\n",
        "train_PATH = '/content/drive/MyDrive/face-training-set'\n",
        "x_train, y_train = create_Trainset(train_PATH) #불러오기\n",
        "x_train = normalization(x_train) # 정규화 진행\n",
        "\n",
        "test_PATH = '/content/drive/MyDrive/face-test-set'\n",
        "x_test, _ = create_Testset(test_PATH)\n",
        "x_test = normalization(x_test)\n",
        "\n",
        "### 첫번째 데이터 출력해보기\n",
        "img1 = matplotlib.image.imread(join('/content/drive/MyDrive/face-training-set/0001_0001.BMP'))\n",
        "plt.figure()\n",
        "plt.figure(figsize=(24,25))\n",
        "plt.subplot(1,5,1, facecolor='w')\n",
        "plt.imshow(img1, cmap='gray')\n",
        "\n",
        "print('Train images :',x_train.shape)\n",
        "print('Train labels : ', y_train.shape)\n",
        "print('Test images : ', x_test.shape)\n"
      ],
      "execution_count": 10,
      "outputs": [
        {
          "output_type": "error",
          "ename": "KeyboardInterrupt",
          "evalue": "ignored",
          "traceback": [
            "\u001b[0;31m---------------------------------------------------------------------------\u001b[0m",
            "\u001b[0;31mKeyboardInterrupt\u001b[0m                         Traceback (most recent call last)",
            "\u001b[0;32m<ipython-input-10-fd31e9fdb8c3>\u001b[0m in \u001b[0;36m<module>\u001b[0;34m()\u001b[0m\n\u001b[1;32m     52\u001b[0m \u001b[0;34m\u001b[0m\u001b[0m\n\u001b[1;32m     53\u001b[0m \u001b[0mtest_PATH\u001b[0m \u001b[0;34m=\u001b[0m \u001b[0;34m'/content/drive/MyDrive/face-test-set'\u001b[0m\u001b[0;34m\u001b[0m\u001b[0;34m\u001b[0m\u001b[0m\n\u001b[0;32m---> 54\u001b[0;31m \u001b[0mx_test\u001b[0m\u001b[0;34m,\u001b[0m \u001b[0m_\u001b[0m \u001b[0;34m=\u001b[0m \u001b[0mcreate_Testset\u001b[0m\u001b[0;34m(\u001b[0m\u001b[0mtest_PATH\u001b[0m\u001b[0;34m)\u001b[0m\u001b[0;34m\u001b[0m\u001b[0;34m\u001b[0m\u001b[0m\n\u001b[0m\u001b[1;32m     55\u001b[0m \u001b[0mx_test\u001b[0m \u001b[0;34m=\u001b[0m \u001b[0mnormalization\u001b[0m\u001b[0;34m(\u001b[0m\u001b[0mx_test\u001b[0m\u001b[0;34m)\u001b[0m\u001b[0;34m\u001b[0m\u001b[0;34m\u001b[0m\u001b[0m\n\u001b[1;32m     56\u001b[0m \u001b[0;34m\u001b[0m\u001b[0m\n",
            "\u001b[0;32m<ipython-input-10-fd31e9fdb8c3>\u001b[0m in \u001b[0;36mcreate_Testset\u001b[0;34m(folder)\u001b[0m\n\u001b[1;32m     27\u001b[0m     \u001b[0;32mfor\u001b[0m \u001b[0mfile\u001b[0m \u001b[0;32min\u001b[0m \u001b[0mos\u001b[0m\u001b[0;34m.\u001b[0m\u001b[0mlistdir\u001b[0m\u001b[0;34m(\u001b[0m\u001b[0mfolder\u001b[0m\u001b[0;34m)\u001b[0m\u001b[0;34m:\u001b[0m\u001b[0;34m\u001b[0m\u001b[0;34m\u001b[0m\u001b[0m\n\u001b[1;32m     28\u001b[0m         \u001b[0mimage_path\u001b[0m \u001b[0;34m=\u001b[0m \u001b[0mos\u001b[0m\u001b[0;34m.\u001b[0m\u001b[0mpath\u001b[0m\u001b[0;34m.\u001b[0m\u001b[0mjoin\u001b[0m\u001b[0;34m(\u001b[0m\u001b[0mfolder\u001b[0m\u001b[0;34m,\u001b[0m \u001b[0mfile\u001b[0m\u001b[0;34m)\u001b[0m\u001b[0;34m\u001b[0m\u001b[0;34m\u001b[0m\u001b[0m\n\u001b[0;32m---> 29\u001b[0;31m         \u001b[0mimage\u001b[0m \u001b[0;34m=\u001b[0m \u001b[0mload_img\u001b[0m\u001b[0;34m(\u001b[0m\u001b[0mimage_path\u001b[0m\u001b[0;34m,\u001b[0m \u001b[0;34m'rb'\u001b[0m\u001b[0;34m)\u001b[0m\u001b[0;34m\u001b[0m\u001b[0;34m\u001b[0m\u001b[0m\n\u001b[0m\u001b[1;32m     30\u001b[0m         \u001b[0mimage\u001b[0m \u001b[0;34m=\u001b[0m \u001b[0mimg_to_array\u001b[0m\u001b[0;34m(\u001b[0m\u001b[0mimage\u001b[0m\u001b[0;34m)\u001b[0m\u001b[0;34m\u001b[0m\u001b[0;34m\u001b[0m\u001b[0m\n\u001b[1;32m     31\u001b[0m \u001b[0;34m\u001b[0m\u001b[0m\n",
            "\u001b[0;32m/usr/local/lib/python3.7/dist-packages/tensorflow/python/keras/preprocessing/image.py\u001b[0m in \u001b[0;36mload_img\u001b[0;34m(path, grayscale, color_mode, target_size, interpolation)\u001b[0m\n\u001b[1;32m    294\u001b[0m   \"\"\"\n\u001b[1;32m    295\u001b[0m   return image.load_img(path, grayscale=grayscale, color_mode=color_mode,\n\u001b[0;32m--> 296\u001b[0;31m                         target_size=target_size, interpolation=interpolation)\n\u001b[0m\u001b[1;32m    297\u001b[0m \u001b[0;34m\u001b[0m\u001b[0m\n\u001b[1;32m    298\u001b[0m \u001b[0;34m\u001b[0m\u001b[0m\n",
            "\u001b[0;32m/usr/local/lib/python3.7/dist-packages/keras_preprocessing/image/utils.py\u001b[0m in \u001b[0;36mload_img\u001b[0;34m(path, grayscale, color_mode, target_size, interpolation)\u001b[0m\n\u001b[1;32m    112\u001b[0m                           'The use of `load_img` requires PIL.')\n\u001b[1;32m    113\u001b[0m     \u001b[0;32mwith\u001b[0m \u001b[0mopen\u001b[0m\u001b[0;34m(\u001b[0m\u001b[0mpath\u001b[0m\u001b[0;34m,\u001b[0m \u001b[0;34m'rb'\u001b[0m\u001b[0;34m)\u001b[0m \u001b[0;32mas\u001b[0m \u001b[0mf\u001b[0m\u001b[0;34m:\u001b[0m\u001b[0;34m\u001b[0m\u001b[0;34m\u001b[0m\u001b[0m\n\u001b[0;32m--> 114\u001b[0;31m         \u001b[0mimg\u001b[0m \u001b[0;34m=\u001b[0m \u001b[0mpil_image\u001b[0m\u001b[0;34m.\u001b[0m\u001b[0mopen\u001b[0m\u001b[0;34m(\u001b[0m\u001b[0mio\u001b[0m\u001b[0;34m.\u001b[0m\u001b[0mBytesIO\u001b[0m\u001b[0;34m(\u001b[0m\u001b[0mf\u001b[0m\u001b[0;34m.\u001b[0m\u001b[0mread\u001b[0m\u001b[0;34m(\u001b[0m\u001b[0;34m)\u001b[0m\u001b[0;34m)\u001b[0m\u001b[0;34m)\u001b[0m\u001b[0;34m\u001b[0m\u001b[0;34m\u001b[0m\u001b[0m\n\u001b[0m\u001b[1;32m    115\u001b[0m         \u001b[0;32mif\u001b[0m \u001b[0mcolor_mode\u001b[0m \u001b[0;34m==\u001b[0m \u001b[0;34m'grayscale'\u001b[0m\u001b[0;34m:\u001b[0m\u001b[0;34m\u001b[0m\u001b[0;34m\u001b[0m\u001b[0m\n\u001b[1;32m    116\u001b[0m             \u001b[0;31m# if image is not already an 8-bit, 16-bit or 32-bit grayscale image\u001b[0m\u001b[0;34m\u001b[0m\u001b[0;34m\u001b[0m\u001b[0;34m\u001b[0m\u001b[0m\n",
            "\u001b[0;31mKeyboardInterrupt\u001b[0m: "
          ]
        }
      ]
    },
    {
      "cell_type": "markdown",
      "metadata": {
        "id": "ea39jcOvivXC"
      },
      "source": [
        "# 2. CNN 모델 만들기\n",
        "layer 많이 안 쌓고 기본적인 모델로 일단 해보았다."
      ]
    },
    {
      "cell_type": "markdown",
      "metadata": {
        "id": "nvIkOUHFkPNw"
      },
      "source": [
        "# 히히\n",
        "### 1. 첫번째 모델 만듦\n",
        "드라이브의 케라스 불러와서 실행했당\n",
        "레이어는 조금 쌓아서 간단하당"
      ]
    },
    {
      "cell_type": "code",
      "metadata": {
        "id": "B1jM4K29kD3Q"
      },
      "source": [
        "import keras"
      ],
      "execution_count": 2,
      "outputs": []
    },
    {
      "cell_type": "code",
      "metadata": {
        "colab": {
          "base_uri": "https://localhost:8080/"
        },
        "id": "HxA79Fm9iuBq",
        "outputId": "8c29eab6-9fe8-484b-8c5e-310cfb714702"
      },
      "source": [
        "model = keras.Sequential([\n",
        "    keras.layers.Flatten(input_shape=(56, 46)),\n",
        "    keras.layers.Dense(256, activation='relu'),\n",
        "    keras.layers.Dense(351, activation='softmax')\n",
        "])\n",
        "\n",
        "# loss 함수로 sparse_categorical_crossentropy 사용\n",
        "model.compile(loss='sparse_categorical_crossentropy',\n",
        "              optimizer='adam',\n",
        "              metrics=['accuracy'])\n",
        "\n",
        "model.summary()   # 모델 확인하기\n"
      ],
      "execution_count": 3,
      "outputs": [
        {
          "output_type": "stream",
          "text": [
            "Model: \"sequential\"\n",
            "_________________________________________________________________\n",
            "Layer (type)                 Output Shape              Param #   \n",
            "=================================================================\n",
            "flatten (Flatten)            (None, 2576)              0         \n",
            "_________________________________________________________________\n",
            "dense (Dense)                (None, 256)               659712    \n",
            "_________________________________________________________________\n",
            "dense_1 (Dense)              (None, 351)               90207     \n",
            "=================================================================\n",
            "Total params: 749,919\n",
            "Trainable params: 749,919\n",
            "Non-trainable params: 0\n",
            "_________________________________________________________________\n"
          ],
          "name": "stdout"
        }
      ]
    },
    {
      "cell_type": "code",
      "metadata": {
        "id": "pj98VNURi79B"
      },
      "source": [
        "model.fit(x_train, y_train, epochs=30)"
      ],
      "execution_count": null,
      "outputs": []
    }
  ]
}