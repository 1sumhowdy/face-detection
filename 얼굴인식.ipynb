{
  "nbformat": 4,
  "nbformat_minor": 0,
  "metadata": {
    "colab": {
      "name": "얼굴인식.ipynb",
      "provenance": [],
      "authorship_tag": "ABX9TyM+n2dg0dykX39V7Iw2y+Q+",
      "include_colab_link": true
    },
    "kernelspec": {
      "name": "python3",
      "display_name": "Python 3"
    },
    "language_info": {
      "name": "python"
    },
    "accelerator": "GPU"
  },
  "cells": [
    {
      "cell_type": "markdown",
      "metadata": {
        "id": "view-in-github",
        "colab_type": "text"
      },
      "source": [
        "<a href=\"https://colab.research.google.com/github/1sumhowdy/face-detection/blob/main/%EC%96%BC%EA%B5%B4%EC%9D%B8%EC%8B%9D.ipynb\" target=\"_parent\"><img src=\"https://colab.research.google.com/assets/colab-badge.svg\" alt=\"Open In Colab\"/></a>"
      ]
    },
    {
      "cell_type": "markdown",
      "metadata": {
        "id": "mS0O7T32bOq8"
      },
      "source": [
        "# 얼굴인식\n",
        "1차: 2021.07.14\n"
      ]
    },
    {
      "cell_type": "code",
      "metadata": {
        "id": "3VLLr6eKbQMa"
      },
      "source": [
        "# 주석 (코드 돌아가지 않는 부분)\n",
        "\n",
        "import numpy as np  #코드"
      ],
      "execution_count": null,
      "outputs": []
    },
    {
      "cell_type": "markdown",
      "metadata": {
        "id": "zdPr0itBb9YE"
      },
      "source": [
        "# 할 일 정리\n",
        "0. 필요한 라이브러리를 가져온다 (import)   \n",
        "tensorflow, keras, 등등...   \n",
        "imgshow, numpy, ....\n",
        "\n",
        "1. colab 에 데이터 불러오기   \n",
        "\n",
        "2. 모델을 만든다 (CNN 코드를 참고해서)\n",
        "\n",
        "3. face-training-set 으로 모델을 학습시킨다. (train)\n",
        "문제랑 정답을 같이 줘서 모델을 트레ㅇ닝\n",
        "\n",
        "4. 모델이 내놓은 정답이랑, 실제 정답 비교"
      ]
    },
    {
      "cell_type": "code",
      "metadata": {
        "colab": {
          "base_uri": "https://localhost:8080/"
        },
        "id": "y4kB1DbYaaWa",
        "outputId": "446d14c3-3383-46cb-e45f-7d2221b3d366"
      },
      "source": [
        "from google.colab import drive\n",
        "drive.mount('/content/drive')"
      ],
      "execution_count": 1,
      "outputs": [
        {
          "output_type": "stream",
          "text": [
            "Mounted at /content/drive\n"
          ],
          "name": "stdout"
        }
      ]
    },
    {
      "cell_type": "code",
      "metadata": {
        "id": "xEKf0kveeAIA"
      },
      "source": [
        "import numpy as np\n",
        "import pandas as pd\n",
        "import matplotlib  #시각화ㅡ 그래프 그리기\n",
        "%matplotlib inline\n",
        "import matplotlib.pyplot as plt  #plt.img_show()\n",
        "import os\n",
        "import cv2\n",
        "from os.path import isfile, join\n",
        "import glob\n",
        "import gzip\n",
        "from PIL import Image\n",
        "from scipy import misc"
      ],
      "execution_count": 2,
      "outputs": []
    },
    {
      "cell_type": "code",
      "metadata": {
        "id": "hgxlNc-2eby9"
      },
      "source": [
        "# 딥러닝에 필요한 라이브러리들 import\n",
        "\n",
        "import tensorflow as tf\n",
        "import tensorflow.keras as keras\n",
        "from tensorflow.keras.layers import Input,Conv2D,MaxPooling2D,UpSampling2D\n",
        "from tensorflow.keras.models import Model\n",
        "from tensorflow.keras.optimizers import RMSprop\n",
        "from tensorflow.keras.preprocessing.image import load_img\n",
        "from tensorflow.keras.preprocessing.image import img_to_array\n",
        "from tensorflow.keras.preprocessing.image import array_to_img"
      ],
      "execution_count": 3,
      "outputs": []
    },
    {
      "cell_type": "code",
      "metadata": {
        "id": "OcCYcmw3eep5"
      },
      "source": [
        "\n",
        "# CNN\n",
        "import keras\n",
        "from keras.models import Sequential\n",
        "from keras.models import load_model\n",
        "from keras.utils.np_utils import to_categorical\n",
        "\n",
        "from keras import layers, regularizers, optimizers, callbacks\n",
        "from collections import defaultdict\n",
        "from keras.optimizers import RMSprop\n",
        "from keras.layers.normalization import BatchNormalization\n",
        "\n",
        "from sklearn.metrics import pairwise_distances_argmin\n",
        "from skimage.io import imread\n",
        "from sklearn.utils import shuffle\n",
        "from skimage import img_as_float\n",
        "\n",
        "from keras import layers\n",
        "from keras import models\n",
        "from keras.utils import np_utils  # to_categorical"
      ],
      "execution_count": 4,
      "outputs": []
    },
    {
      "cell_type": "code",
      "metadata": {
        "colab": {
          "base_uri": "https://localhost:8080/",
          "height": 365
        },
        "id": "hND6z2t7e5fN",
        "outputId": "f852fad6-beff-474f-bb38-c731bde690c9"
      },
      "source": [
        "### 첫번째 데이터 출력해보기\n",
        "img1 = matplotlib.image.imread(join('/content/drive/MyDrive/face-training-set/0001_0001.BMP'))\n",
        "plt.figure()\n",
        "plt.figure(figsize=(24,25))\n",
        "plt.subplot(1,5,1, facecolor='w')\n",
        "plt.imshow(img1, cmap='gray')"
      ],
      "execution_count": 5,
      "outputs": [
        {
          "output_type": "execute_result",
          "data": {
            "text/plain": [
              "<matplotlib.image.AxesImage at 0x7fcdfaf98510>"
            ]
          },
          "metadata": {
            "tags": []
          },
          "execution_count": 5
        },
        {
          "output_type": "display_data",
          "data": {
            "text/plain": [
              "<Figure size 432x288 with 0 Axes>"
            ]
          },
          "metadata": {
            "tags": []
          }
        },
        {
          "output_type": "display_data",
          "data": {
            "image/png": "[encoded data removed]",
            "text/plain": [
              "<Figure size 1728x1800 with 1 Axes>"
            ]
          },
          "metadata": {
            "tags": [],
            "needs_background": "light"
          }
        }
      ]
    },
    {
      "cell_type": "markdown",
      "metadata": {
        "id": "tEhqMJJif4xm"
      },
      "source": [
        "# 꼭 알아야할 개념\n",
        "### 1. 하이퍼 파라미터 (hyper-parameter)\n",
        "epochs=40, batch_size=16, learning-rate=0.0001, ...   \n",
        "활성화 함수(activation func): relu, softmax 등등의 다양한 활성화 함수 존재\n",
        "\n",
        "### 2. CNN 모델의 layer\n",
        "-> 성능에 많은 영향\n",
        "\n",
        "### 3. 트레이닝셋과 테스트셋\n",
        "트레이닝셋은? 질문과 정답을 같이 준다   \n",
        "테스트셋은? 질문만 주고, 정답과 비교 -> 성능 측정\n",
        "\n",
        "### 4. 성능 개선"
      ]
    },
    {
      "cell_type": "markdown",
      "metadata": {
        "id": "ngXLvQ9gi_jt"
      },
      "source": [
        "# 1. 데이터셋 불러오기\n",
        "트레이닝, 테스트셋 불러오기"
      ]
    },
    {
      "cell_type": "code",
      "metadata": {
        "id": "rKJkQOoJfd6M"
      },
      "source": [
        "\n",
        "# 학습 결과 분석을 위한 그래프 구현\n",
        "\n",
        "import matplotlib.pyplot as plt\n",
        "\n",
        "def plot_acc(history, title=None):\n",
        "  # summarize history for accuracy\n",
        "  if not isinstance(history, dict):\n",
        "    history = history.history\n",
        "  plt.plot(history['accuracy'])\n",
        "  plt.plot(history['val_accuracy'])\n",
        "  if title is not None:\n",
        "    plt.title(title)\n",
        "  plt.ylabel('Accuracy')\n",
        "  plt.xlabel('Epoch')\n",
        "  plt.legend(['Training', 'Verification'], loc=0)   # 두 선의 이름(Train, Test) 표시\n",
        "\n",
        "def plot_loss(history, title=None):\n",
        "  # summarize history for loss\n",
        "  if not isinstance(history, dict):\n",
        "    history = history.history\n",
        "  plt.plot(history['loss'])             # 학습 데이터로 구한 손실값\n",
        "  plt.plot(history['val_loss'])         # 검증 데이터로 구한 손실값\n",
        "  if title is not None:\n",
        "    plt.title(title)\n",
        "  plt.ylabel('Loss')\n",
        "  plt.xlabel('Epoch')\n",
        "  plt.legend(['Training', 'Verification'], loc=0)"
      ],
      "execution_count": null,
      "outputs": []
    },
    {
      "cell_type": "code",
      "metadata": {
        "id": "vw2pTJvliSI_"
      },
      "source": [
        "def create_Trainset(folder):\n",
        "   \n",
        "    img_data_array=[]\n",
        "    class_name=[]\n",
        "    \n",
        "    for file in os.listdir(folder):\n",
        "        image_path = os.path.join(folder, file)\n",
        "        image = load_img(image_path, 'rb')\n",
        "        image = img_to_array(image)\n",
        "        \n",
        "        if image.shape[2] == 3:\n",
        "            image = image.mean(2)\n",
        "\n",
        "        img_data_array.append(image)\n",
        "        name_index = file.split(\"_\") // [0001. 0001] [0001. 0002]\n",
        "        name_index = int(name_index[0])\n",
        "        class_name.append(name_index)\n",
        "        \n",
        "    return np.array(img_data_array), np.array(class_name)\n",
        "\n",
        "\n",
        "def create_Testset(folder):\n",
        "   \n",
        "    img_data_array=[]\n",
        "    class_name=[]\n",
        "    \n",
        "    for file in os.listdir(folder):\n",
        "        image_path = os.path.join(folder, file)\n",
        "        image = load_img(image_path, 'rb')\n",
        "        image = img_to_array(image)\n",
        "        \n",
        "        if image.shape[2] == 3:\n",
        "            image = image.mean(2)\n",
        "\n",
        "        img_data_array.append(image)\n",
        "        name_index = file.split(\".\")\n",
        "        name_index = int(name_index[0])\n",
        "        class_name.append(name_index)\n",
        "        \n",
        "    return np.array(img_data_array), np.array(class_name)\n",
        "\n",
        "# 정규화\n",
        "def normalization(image):  \n",
        "    image = image / image.max()\n",
        "    return image\n"
      ],
      "execution_count": 6,
      "outputs": []
    },
    {
      "cell_type": "code",
      "metadata": {
        "colab": {
          "base_uri": "https://localhost:8080/"
        },
        "id": "lqn40CEKIpir",
        "outputId": "1a4c6fe8-ca66-412b-f979-4097c1411b8d"
      },
      "source": [
        "train_PATH = '/content/drive/MyDrive/face-training-set'\n",
        "x_train, y_train = create_Trainset(train_PATH) #불러오기\n",
        "x_train = normalization(x_train) # 정규화 진행\n",
        "\n",
        "test_PATH = '/content/drive/MyDrive/face-test-set'\n",
        "x_test, _ = create_Testset(test_PATH)\n",
        "x_test = normalization(x_test)\n",
        "\n",
        "\n",
        "print('Train images :',x_train.shape)\n",
        "print('Train labels : ', y_train.shape)\n",
        "print('Test images : ', x_test.shape)\n"
      ],
      "execution_count": 7,
      "outputs": [
        {
          "output_type": "stream",
          "text": [
            "Train images : (1050, 56, 46)\n",
            "Train labels :  (1050,)\n",
            "Test images :  (700, 56, 46)\n"
          ],
          "name": "stdout"
        }
      ]
    },
    {
      "cell_type": "markdown",
      "metadata": {
        "id": "ea39jcOvivXC"
      },
      "source": [
        "# 2. CNN 모델 만들기\n",
        "layer 많이 안 쌓고 기본적인 모델로 일단 해보았다."
      ]
    },
    {
      "cell_type": "markdown",
      "metadata": {
        "id": "nvIkOUHFkPNw"
      },
      "source": [
        "# 히히\n",
        "### 1. 첫번째 모델 만듦\n",
        "드라이브의 케라스 불러와서 실행했당\n",
        "레이어는 조금 쌓아서 간단하당"
      ]
    },
    {
      "cell_type": "code",
      "metadata": {
        "id": "B1jM4K29kD3Q"
      },
      "source": [
        "import keras"
      ],
      "execution_count": 8,
      "outputs": []
    },
    {
      "cell_type": "code",
      "metadata": {
        "colab": {
          "base_uri": "https://localhost:8080/"
        },
        "id": "HxA79Fm9iuBq",
        "outputId": "6f664393-dc66-4f6a-d17a-2a7ca4d7b152"
      },
      "source": [
        "model = keras.Sequential([\n",
        "    keras.layers.Flatten(input_shape=(56, 46)),\n",
        "    keras.layers.Dense(256, activation='relu'),\n",
        "    keras.layers.Dense(351, activation='softmax')\n",
        "])\n",
        "\n",
        "# loss 함수로 sparse_categorical_crossentropy 사용\n",
        "model.compile(loss='sparse_categorical_crossentropy',\n",
        "              optimizer='adam',\n",
        "              metrics=['accuracy'])\n",
        "\n",
        "model.summary()   # 모델 확인하기\n"
      ],
      "execution_count": 9,
      "outputs": [
        {
          "output_type": "stream",
          "text": [
            "Model: \"sequential\"\n",
            "_________________________________________________________________\n",
            "Layer (type)                 Output Shape              Param #   \n",
            "=================================================================\n",
            "flatten (Flatten)            (None, 2576)              0         \n",
            "_________________________________________________________________\n",
            "dense (Dense)                (None, 256)               659712    \n",
            "_________________________________________________________________\n",
            "dense_1 (Dense)              (None, 351)               90207     \n",
            "=================================================================\n",
            "Total params: 749,919\n",
            "Trainable params: 749,919\n",
            "Non-trainable params: 0\n",
            "_________________________________________________________________\n"
          ],
          "name": "stdout"
        }
      ]
    },
    {
      "cell_type": "code",
      "metadata": {
        "id": "pj98VNURi79B",
        "colab": {
          "base_uri": "https://localhost:8080/"
        },
        "outputId": "f4ab912b-85fb-4dd4-e92e-38dbd2c145ab"
      },
      "source": [
        "model.fit(x_train, y_train, epochs=30)"
      ],
      "execution_count": 10,
      "outputs": [
        {
          "output_type": "stream",
          "text": [
            "Epoch 1/30\n",
            "33/33 [==============================] - 15s 3ms/step - loss: 6.0857 - accuracy: 0.0054\n",
            "Epoch 2/30\n",
            "33/33 [==============================] - 0s 3ms/step - loss: 5.7702 - accuracy: 0.0046\n",
            "Epoch 3/30\n",
            "33/33 [==============================] - 0s 3ms/step - loss: 5.5319 - accuracy: 0.0109\n",
            "Epoch 4/30\n",
            "33/33 [==============================] - 0s 3ms/step - loss: 5.1314 - accuracy: 0.0247\n",
            "Epoch 5/30\n",
            "33/33 [==============================] - 0s 3ms/step - loss: 4.5952 - accuracy: 0.0622\n",
            "Epoch 6/30\n",
            "33/33 [==============================] - 0s 3ms/step - loss: 4.1834 - accuracy: 0.1243\n",
            "Epoch 7/30\n",
            "33/33 [==============================] - 0s 3ms/step - loss: 3.7003 - accuracy: 0.2062\n",
            "Epoch 8/30\n",
            "33/33 [==============================] - 0s 3ms/step - loss: 3.2416 - accuracy: 0.2785\n",
            "Epoch 9/30\n",
            "33/33 [==============================] - 0s 3ms/step - loss: 2.8852 - accuracy: 0.4050\n",
            "Epoch 10/30\n",
            "33/33 [==============================] - 0s 3ms/step - loss: 2.5907 - accuracy: 0.4503\n",
            "Epoch 11/30\n",
            "33/33 [==============================] - 0s 3ms/step - loss: 2.3070 - accuracy: 0.5034\n",
            "Epoch 12/30\n",
            "33/33 [==============================] - 0s 3ms/step - loss: 2.1093 - accuracy: 0.5259\n",
            "Epoch 13/30\n",
            "33/33 [==============================] - 0s 3ms/step - loss: 1.8081 - accuracy: 0.6421\n",
            "Epoch 14/30\n",
            "33/33 [==============================] - 0s 3ms/step - loss: 1.6692 - accuracy: 0.6611\n",
            "Epoch 15/30\n",
            "33/33 [==============================] - 0s 3ms/step - loss: 1.5044 - accuracy: 0.7138\n",
            "Epoch 16/30\n",
            "33/33 [==============================] - 0s 3ms/step - loss: 1.3213 - accuracy: 0.7485\n",
            "Epoch 17/30\n",
            "33/33 [==============================] - 0s 3ms/step - loss: 1.2146 - accuracy: 0.7702\n",
            "Epoch 18/30\n",
            "33/33 [==============================] - 0s 3ms/step - loss: 1.1265 - accuracy: 0.7707\n",
            "Epoch 19/30\n",
            "33/33 [==============================] - 0s 3ms/step - loss: 1.0800 - accuracy: 0.7852\n",
            "Epoch 20/30\n",
            "33/33 [==============================] - 0s 3ms/step - loss: 0.9658 - accuracy: 0.8111\n",
            "Epoch 21/30\n",
            "33/33 [==============================] - 0s 3ms/step - loss: 0.8986 - accuracy: 0.8288\n",
            "Epoch 22/30\n",
            "33/33 [==============================] - 0s 3ms/step - loss: 0.8423 - accuracy: 0.8434\n",
            "Epoch 23/30\n",
            "33/33 [==============================] - 0s 3ms/step - loss: 0.7342 - accuracy: 0.8816\n",
            "Epoch 24/30\n",
            "33/33 [==============================] - 0s 3ms/step - loss: 0.6530 - accuracy: 0.8965\n",
            "Epoch 25/30\n",
            "33/33 [==============================] - 0s 3ms/step - loss: 0.6405 - accuracy: 0.8835\n",
            "Epoch 26/30\n",
            "33/33 [==============================] - 0s 3ms/step - loss: 0.5748 - accuracy: 0.9099\n",
            "Epoch 27/30\n",
            "33/33 [==============================] - 0s 3ms/step - loss: 0.5470 - accuracy: 0.9244\n",
            "Epoch 28/30\n",
            "33/33 [==============================] - 0s 3ms/step - loss: 0.5260 - accuracy: 0.9134\n",
            "Epoch 29/30\n",
            "33/33 [==============================] - 0s 3ms/step - loss: 0.4873 - accuracy: 0.9296\n",
            "Epoch 30/30\n",
            "33/33 [==============================] - 0s 3ms/step - loss: 0.4413 - accuracy: 0.9234\n"
          ],
          "name": "stdout"
        },
        {
          "output_type": "execute_result",
          "data": {
            "text/plain": [
              "<keras.callbacks.History at 0x7fcdaa325910>"
            ]
          },
          "metadata": {
            "tags": []
          },
          "execution_count": 10
        }
      ]
    },
    {
      "cell_type": "code",
      "metadata": {
        "colab": {
          "base_uri": "https://localhost:8080/"
        },
        "id": "2AfW_F0eK8Wf",
        "outputId": "acc5b0e8-aa95-4d04-859d-1f0e678d042d"
      },
      "source": [
        "x_predict = model.predict(x_train)\n",
        "y_predict = []\n",
        "\n",
        "print(x_predict.shape)\n",
        "\n",
        "for image in x_predict:\n",
        "    y_predict.append(np.argmax(image))\n",
        "\n",
        "y_predict = np.array(y_predict)\n"
      ],
      "execution_count": 11,
      "outputs": [
        {
          "output_type": "stream",
          "text": [
            "(1050, 351)\n"
          ],
          "name": "stdout"
        }
      ]
    },
    {
      "cell_type": "code",
      "metadata": {
        "id": "YqLo5M6dPgPk"
      },
      "source": [
        "\n",
        "def accuracy(original, x_predict):\n",
        "    accuracy = original == x_predict\n",
        "    accuracy = np.count_nonzero(accuracy)\n",
        "    \n",
        "    return accuracy / original.shape[0]"
      ],
      "execution_count": 12,
      "outputs": []
    },
    {
      "cell_type": "code",
      "metadata": {
        "colab": {
          "base_uri": "https://localhost:8080/"
        },
        "id": "PHQET9vePiNH",
        "outputId": "aeddcff2-6463-412f-b95e-e83202649e6a"
      },
      "source": [
        "\n",
        "accuracy(y_train, y_predict)  #모델의 정확도 출력"
      ],
      "execution_count": 13,
      "outputs": [
        {
          "output_type": "execute_result",
          "data": {
            "text/plain": [
              "0.9552380952380952"
            ]
          },
          "metadata": {
            "tags": []
          },
          "execution_count": 13
        }
      ]
    },
    {
      "cell_type": "code",
      "metadata": {
        "id": "zZiYWFNPPgIe"
      },
      "source": [
        ""
      ],
      "execution_count": null,
      "outputs": []
    },
    {
      "cell_type": "code",
      "metadata": {
        "colab": {
          "base_uri": "https://localhost:8080/"
        },
        "id": "f4BhGXU-MQhY",
        "outputId": "47256f0f-48f1-4927-f5b2-ed00ad9a2ad7"
      },
      "source": [
        "# test\n",
        "predictions = model.predict(x_test)  #test데이터의 Y-test 예측하기\n",
        "print(predictions.shape)\n",
        "\n",
        "y_test = []\n",
        "for image in predictions:\n",
        "    y_test.append(np.argmax(image))\n",
        "\n",
        "y_test = np.array(y_test)\n",
        "\n",
        "#결과\n",
        "print(y_test)\n"
      ],
      "execution_count": 14,
      "outputs": [
        {
          "output_type": "stream",
          "text": [
            "(700, 351)\n",
            "[118 319 137 221  51 153 132 326 309 212 215 224 212 177 227 345 221 239\n",
            " 271 180 225 216 158 263 269 284 251 334  55 324 266  34 287 194 280 188\n",
            " 248  34  34 319  34 177 279 241 342 283 186 125 155 164 229 238 238 118\n",
            " 128 162 168 303 291 238 279 347 218 213 192 101 226 154 202  98 225 240\n",
            " 314 181 126 290 220 275 294 115 224 101 236  77  91 199 160  90  61 239\n",
            " 187  87 188 137 254 144 308 118  93 226 116 167 238 169 288 229 314 238\n",
            " 196   3 334 146 155 270  92 320  30 218 334 276 203 205 217 151  77 345\n",
            " 334 257 172 220 279 262 267 313  93 165 178 187 248 128  34 323 340 212\n",
            "  88 234 235 201 345  85 118 221 235 212 213 236 317 264 316 334 334 328\n",
            " 213  39  77 229  85 162 191 202 101 183  97  47 278 192 314 334 168 276\n",
            " 218  86 225 226 243 155 155 263 334 239 312 285  38 296 229 187 215 257\n",
            " 104 324 165  76 253 223 190 334 305 239 221 239  64 157 229 284 248 193\n",
            "  92 283 151 220  93 271 161 280  77 213 343 345 218 312 194 185 252 235\n",
            " 175 250 334 221  34 327 168 239 334 122 261 213 323 118 325 308 156 198\n",
            " 303 303 307 121 282 182 344 212  64 334 238  95 163  86  86 172 323 175\n",
            " 159 303  87 238 321 238 349 275 105 244 264 186 301 130 263 157 328 234\n",
            " 316 232 174  88 334 212 129  79 218 164  34 320 215 137 300 204 334 112\n",
            " 312 294 236 328  34  86 172 199 334 215 213  96  86  96 225 248 168 185\n",
            " 129 157 226 213 226  34 163 172 137 303 214 225  86 275 153 323 334 310\n",
            " 228 238 207 238 317 288 211 334 239 212 121 320 133 268 172 297 295 151\n",
            " 290 239 226 213 213  21 260  99 314 245 150 239 212 172 270 132 118 334\n",
            "  47 253 231 118 297 340  89 314  34 213 262  97 310 283 214 159 262 246\n",
            "  76 128 335 242 304 215 137  64 348  76 267 209 327 263 173 320  85 227\n",
            " 346 220 345 197 259 284 218 198  34 304 285 324 212 295 238 278 248  11\n",
            " 212 239  76  39  34 159 334 314  45 213  92 270 230 157 214 261 136 246\n",
            " 225 303 224 212 315 248 221 133 207 281 136 227 345  34 334 322 146 172\n",
            " 220 247 239 228 269 252 111  56 334 172 281 283 244 172 117 107 298  96\n",
            " 312 213 216 250 213 213 110 347 239 161 345 227 286 258 345 112  47  97\n",
            " 300 217 176 163 152 238 214 154  92 208 197 131 231 268 244  34 185 257\n",
            " 334  21 126  61 339 125 110 314 259 256 213 288 177  92 152 250 220 221\n",
            " 156 222  34 229 229 322 225 255 192  34 241 212 223 325 196 303 334 209\n",
            " 100 242 189  47  27 320 158 238 208  81 334 173 201 184 334 341  30 334\n",
            " 117 166 275 122 340 157 226 239 218 165 149 299 350 343 228 238 313 212\n",
            " 204 106 160 152 269 266 212 314 213 181 239 254  80 201 244 183 338 205\n",
            " 288 155 275 118 192 306 185  40 226 321 227 228 218 201  76 239 343 311\n",
            " 246  57 115 157   1 303 213 166 303 239 345  84  86 199 323 169 345 185\n",
            " 174 300 240 222 182  16  93 267 253 136 345 244 339 273 334 226 269 227\n",
            " 225 207  92 320 266 336 334 112 281 224 324 152 221 220 128  48 239 338\n",
            " 123 220 149  93 347 128 261 225 210 238 212  30   8 309 157 226]\n"
          ],
          "name": "stdout"
        }
      ]
    },
    {
      "cell_type": "code",
      "metadata": {
        "id": "u-jRxszRQct2"
      },
      "source": [
        "\n",
        "### csv 저장\n",
        "\n",
        "test_result_df = pd.DataFrame([x for x in zip(test_index, y_test)], columns=['Image', 'Answer'])\n",
        "test_result_df.head()\n",
        "\n",
        "test_result_df = test_result_df.sort_values(by=\"Image\")\n",
        "test_result_df.head()\n",
        "\n",
        "test_result_df.to_csv(\"/content/drive/MyDrive/hw2-1-result.csv\", index=False)"
      ],
      "execution_count": null,
      "outputs": []
    }
  ]
}